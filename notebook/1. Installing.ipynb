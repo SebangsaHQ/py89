{
 "cells": [
  {
   "cell_type": "markdown",
   "metadata": {},
   "source": [
    "# Python Workshop at Sebangsa\n",
    "\n",
    "Muhamad Faisal Burhanudin - python meetup at PT Sebangsa Bersama\n",
    "\n",
    "## Pembuatan virtualenv\n",
    "\n",
    "Untuk memastikan python package ada pada environment berbeda maka kita akan menggunakan virtualenv.\n",
    "\n",
    "### membuat virtualenv pada directory `.venv`\n",
    "\n",
    "```bash\n",
    "python3 -m virtualenv .venv\n",
    "```\n",
    "\n",
    "Setelah pembuatan selesai lalu aktifkan\n",
    "\n",
    "```bash\n",
    "source .venv/bin/activate\n",
    "```\n",
    "\n",
    "untuk windows\n",
    "\n",
    "```bash\n",
    ".venv/Script/activate\n",
    "```\n",
    "\n",
    "\n",
    "## Install flask sqlalchemy menggunakan pip\n",
    "\n",
    "Pada workshop ini akan digunanakan flask dan sqlalchemy versi terakhir, gunakan command berikut untuk menginstallnya.\n",
    "\n",
    "```bash\n",
    "\n",
    "pip install Flask==0.12.2 --upgrade\n",
    "pip install Flask-SQLAlchemy==2.2 --upgrade\n",
    "\n",
    "```"
   ]
  },
  {
   "cell_type": "code",
   "execution_count": null,
   "metadata": {
    "collapsed": true
   },
   "outputs": [],
   "source": []
  }
 ],
 "metadata": {
  "kernelspec": {
   "display_name": "Python 3",
   "language": "python",
   "name": "python3"
  },
  "language_info": {
   "codemirror_mode": {
    "name": "ipython",
    "version": 3
   },
   "file_extension": ".py",
   "mimetype": "text/x-python",
   "name": "python",
   "nbconvert_exporter": "python",
   "pygments_lexer": "ipython3",
   "version": "3.4.5"
  }
 },
 "nbformat": 4,
 "nbformat_minor": 2
}
