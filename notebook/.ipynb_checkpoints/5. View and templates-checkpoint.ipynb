{
 "cells": [
  {
   "cell_type": "code",
   "execution_count": null,
   "metadata": {
    "collapsed": true
   },
   "outputs": [],
   "source": [
    "## View\n",
    "\n",
    "Dalam pembuatan view kita akan menggunakan `blueprint` agar lebih modular. Salah satu blueprint nya yaitu products yang memiliki endpoint untuk:\n",
    "- create product\n",
    "- delete product\n",
    "- update product\n",
    "- list product\n",
    "\n",
    "```python\n",
    "\n",
    "# pos/views/products.py\n",
    "from flask import Blueprint, render_template, redirect, url_for\n",
    "\n",
    "bp = Blueprint(\"products\", __name__, url_prefix=\"/products\")\n",
    "\n",
    "\n",
    "@bp.route(\"/\")\n",
    "def product_list():\n",
    "    \"\"\"List product\"\"\"\n",
    "    return render_template('product/list.html')\n",
    "\n",
    "\n",
    "@bp.route(\"/add\", methods=[\"POST\", \"GET\"])\n",
    "def product_add():\n",
    "    \"\"\"Add product\"\"\"\n",
    "    return redirect(url_for(\"product_list\"))\n",
    "\n",
    "\n",
    "@bp.route(\"/update\", methods=[\"POST\", \"GET\"])\n",
    "def product_update():\n",
    "    \"\"\"Update product\"\"\"\n",
    "    return redirect(url_for(\"product_list\"))\n",
    "\n",
    "\n",
    "@bp.route(\"/delete\")\n",
    "def product_delete():\n",
    "    \"\"\"Delete product\"\"\"\n",
    "    return redirect(url_for(\"product_list\"))\n",
    "\n",
    "```"
   ]
  }
 ],
 "metadata": {
  "kernelspec": {
   "display_name": "Python 3",
   "language": "python",
   "name": "python3"
  },
  "language_info": {
   "codemirror_mode": {
    "name": "ipython",
    "version": 3
   },
   "file_extension": ".py",
   "mimetype": "text/x-python",
   "name": "python",
   "nbconvert_exporter": "python",
   "pygments_lexer": "ipython3",
   "version": "3.4.5"
  }
 },
 "nbformat": 4,
 "nbformat_minor": 2
}
